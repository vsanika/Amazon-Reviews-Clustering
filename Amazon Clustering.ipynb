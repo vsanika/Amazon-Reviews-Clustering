{
  "cells": [
    {
      "cell_type": "markdown",
      "source": [
        "# Name: Sanika Vaidya\n",
        "# Andrew ID: sanikav"
      ],
      "metadata": {
        "id": "DUQyPFXtXl6d"
      }
    },
    {
      "cell_type": "markdown",
      "source": [
        "## Imports"
      ],
      "metadata": {
        "id": "zmD6wZ_dfG4q"
      }
    },
    {
      "cell_type": "code",
      "source": [
        "import json\n",
        "import pandas as pd\n",
        "from google.colab import drive\n",
        "import nltk\n",
        "nltk.download('stopwords')\n",
        "from nltk.corpus import stopwords\n",
        "nltk.download('wordnet')\n",
        "nltk.download('omw-1.4')\n",
        "from gensim.utils import tokenize\n",
        "from nltk.stem import WordNetLemmatizer\n",
        "from gensim import models, similarities\n",
        "from gensim.corpora.dictionary import Dictionary\n",
        "import numpy as np\n",
        "from gensim.models.coherencemodel import CoherenceModel\n",
        "import pickle"
      ],
      "metadata": {
        "colab": {
          "base_uri": "https://localhost:8080/"
        },
        "id": "8CB1ISTYfGIe",
        "outputId": "cecb0ee0-6f81-40a3-e7da-f3e222a009b9"
      },
      "execution_count": null,
      "outputs": [
        {
          "output_type": "stream",
          "name": "stderr",
          "text": [
            "[nltk_data] Downloading package stopwords to /root/nltk_data...\n",
            "[nltk_data]   Package stopwords is already up-to-date!\n",
            "[nltk_data] Downloading package wordnet to /root/nltk_data...\n",
            "[nltk_data]   Package wordnet is already up-to-date!\n",
            "[nltk_data] Downloading package omw-1.4 to /root/nltk_data...\n"
          ]
        }
      ]
    },
    {
      "cell_type": "markdown",
      "source": [
        "## Data Loading"
      ],
      "metadata": {
        "id": "h2owukl5dfVh"
      }
    },
    {
      "cell_type": "markdown",
      "source": [
        "### Here are we are loading asins from metadata to a list. We are taking only certain product categories in this case which are closely related to each other, in this case products related to pizza."
      ],
      "metadata": {
        "id": "KUvyWkDUdUR7"
      }
    },
    {
      "cell_type": "code",
      "execution_count": null,
      "metadata": {
        "colab": {
          "base_uri": "https://localhost:8080/"
        },
        "id": "JCXp3BbHTIhq",
        "outputId": "664e2c2c-0fda-49ca-825d-3e8594806ebc"
      },
      "outputs": [
        {
          "output_type": "stream",
          "name": "stdout",
          "text": [
            "Mounted at /content/drive\n",
            "Found 1355 ASINs with desired categories: {'Countertop Pizza Ovens', 'Pizza Cutters', 'Pizza Peels', 'Pizza Pans & Stones'}\n"
          ]
        }
      ],
      "source": [
        "# Expected time to run: 5 min\n",
        "drive.mount(\"/content/drive\", force_remount=True)\n",
        "\n",
        "PATH = '/content/drive/MyDrive/amazon/meta_Home_and_Kitchen.json/meta_Home_and_Kitchen.json'\n",
        "desired_categories = { \"Pizza Cutters\", \"Pizza Pans & Stones\", \"Pizza Peels\", \"Countertop Pizza Ovens\"}\n",
        "\n",
        "try:\n",
        "    asins = []\n",
        "    with open(PATH, \"rt\", encoding=\"utf-8\") as f:\n",
        "        for line in f:\n",
        "            obj = json.loads(line.strip())\n",
        "            if any(c in obj.get(\"category\", []) for c in desired_categories):\n",
        "                asins.append(obj[\"asin\"])\n",
        "    df = pd.DataFrame({\"asin\": asins})\n",
        "    print(f\"Found {len(df)} ASINs with desired categories: {desired_categories}\")\n",
        "except FileNotFoundError:\n",
        "    print(\"File not found\")\n"
      ]
    },
    {
      "cell_type": "code",
      "execution_count": null,
      "metadata": {
        "id": "zuYGR_IsT8ZP"
      },
      "outputs": [],
      "source": [
        "asins_set = set(asins)"
      ]
    },
    {
      "cell_type": "code",
      "source": [
        "asins_set"
      ],
      "metadata": {
        "id": "CmGvgAX7SEfI"
      },
      "execution_count": null,
      "outputs": []
    },
    {
      "cell_type": "markdown",
      "source": [
        "### Here we are taking data from reviews data where the asins match the asins pulled from the metadata."
      ],
      "metadata": {
        "id": "2QdI0jekelCH"
      }
    },
    {
      "cell_type": "code",
      "execution_count": null,
      "metadata": {
        "id": "jqbJiuw2UF2N"
      },
      "outputs": [],
      "source": [
        "# Expected time to run: 4 min 30 sec\n",
        "PATH_review = '/content/drive/MyDrive/amazon/Home_and_Kitchen.json/Home_and_Kitchen.json'\n",
        "\n",
        "review_texts = []\n",
        "with open(PATH_review) as f:\n",
        "    for line in f:\n",
        "        review = json.loads(line)\n",
        "        if review['asin'] in asins_set:\n",
        "            review_texts.append(review)\n"
      ]
    },
    {
      "cell_type": "code",
      "execution_count": null,
      "metadata": {
        "id": "bThF8icZtJXs"
      },
      "outputs": [],
      "source": [
        "review_texts"
      ]
    },
    {
      "cell_type": "code",
      "execution_count": null,
      "metadata": {
        "id": "ZD85RZmou7YW",
        "colab": {
          "base_uri": "https://localhost:8080/",
          "height": 206
        },
        "outputId": "a1cce279-8f9e-4bd3-cb9b-237e23326d3e"
      },
      "outputs": [
        {
          "output_type": "execute_result",
          "data": {
            "text/plain": [
              "                                          reviewText\n",
              "0  This is a sturdy, 2 3/4-inch pizza wheel, whic...\n",
              "1  This is a sturdy, big, 4-inch pizza wheel, com...\n",
              "2  This is a sturdy, 2 3/4-inch pizza wheel, whic...\n",
              "3  It is definitely not one of the best OXO produ...\n",
              "4  I love all of Oxo's Good Grips utensils.  They..."
            ],
            "text/html": [
              "\n",
              "  <div id=\"df-6d85d851-106e-4a03-b620-e92f2e4cf764\">\n",
              "    <div class=\"colab-df-container\">\n",
              "      <div>\n",
              "<style scoped>\n",
              "    .dataframe tbody tr th:only-of-type {\n",
              "        vertical-align: middle;\n",
              "    }\n",
              "\n",
              "    .dataframe tbody tr th {\n",
              "        vertical-align: top;\n",
              "    }\n",
              "\n",
              "    .dataframe thead th {\n",
              "        text-align: right;\n",
              "    }\n",
              "</style>\n",
              "<table border=\"1\" class=\"dataframe\">\n",
              "  <thead>\n",
              "    <tr style=\"text-align: right;\">\n",
              "      <th></th>\n",
              "      <th>reviewText</th>\n",
              "    </tr>\n",
              "  </thead>\n",
              "  <tbody>\n",
              "    <tr>\n",
              "      <th>0</th>\n",
              "      <td>This is a sturdy, 2 3/4-inch pizza wheel, whic...</td>\n",
              "    </tr>\n",
              "    <tr>\n",
              "      <th>1</th>\n",
              "      <td>This is a sturdy, big, 4-inch pizza wheel, com...</td>\n",
              "    </tr>\n",
              "    <tr>\n",
              "      <th>2</th>\n",
              "      <td>This is a sturdy, 2 3/4-inch pizza wheel, whic...</td>\n",
              "    </tr>\n",
              "    <tr>\n",
              "      <th>3</th>\n",
              "      <td>It is definitely not one of the best OXO produ...</td>\n",
              "    </tr>\n",
              "    <tr>\n",
              "      <th>4</th>\n",
              "      <td>I love all of Oxo's Good Grips utensils.  They...</td>\n",
              "    </tr>\n",
              "  </tbody>\n",
              "</table>\n",
              "</div>\n",
              "      <button class=\"colab-df-convert\" onclick=\"convertToInteractive('df-6d85d851-106e-4a03-b620-e92f2e4cf764')\"\n",
              "              title=\"Convert this dataframe to an interactive table.\"\n",
              "              style=\"display:none;\">\n",
              "        \n",
              "  <svg xmlns=\"http://www.w3.org/2000/svg\" height=\"24px\"viewBox=\"0 0 24 24\"\n",
              "       width=\"24px\">\n",
              "    <path d=\"M0 0h24v24H0V0z\" fill=\"none\"/>\n",
              "    <path d=\"M18.56 5.44l.94 2.06.94-2.06 2.06-.94-2.06-.94-.94-2.06-.94 2.06-2.06.94zm-11 1L8.5 8.5l.94-2.06 2.06-.94-2.06-.94L8.5 2.5l-.94 2.06-2.06.94zm10 10l.94 2.06.94-2.06 2.06-.94-2.06-.94-.94-2.06-.94 2.06-2.06.94z\"/><path d=\"M17.41 7.96l-1.37-1.37c-.4-.4-.92-.59-1.43-.59-.52 0-1.04.2-1.43.59L10.3 9.45l-7.72 7.72c-.78.78-.78 2.05 0 2.83L4 21.41c.39.39.9.59 1.41.59.51 0 1.02-.2 1.41-.59l7.78-7.78 2.81-2.81c.8-.78.8-2.07 0-2.86zM5.41 20L4 18.59l7.72-7.72 1.47 1.35L5.41 20z\"/>\n",
              "  </svg>\n",
              "      </button>\n",
              "      \n",
              "  <style>\n",
              "    .colab-df-container {\n",
              "      display:flex;\n",
              "      flex-wrap:wrap;\n",
              "      gap: 12px;\n",
              "    }\n",
              "\n",
              "    .colab-df-convert {\n",
              "      background-color: #E8F0FE;\n",
              "      border: none;\n",
              "      border-radius: 50%;\n",
              "      cursor: pointer;\n",
              "      display: none;\n",
              "      fill: #1967D2;\n",
              "      height: 32px;\n",
              "      padding: 0 0 0 0;\n",
              "      width: 32px;\n",
              "    }\n",
              "\n",
              "    .colab-df-convert:hover {\n",
              "      background-color: #E2EBFA;\n",
              "      box-shadow: 0px 1px 2px rgba(60, 64, 67, 0.3), 0px 1px 3px 1px rgba(60, 64, 67, 0.15);\n",
              "      fill: #174EA6;\n",
              "    }\n",
              "\n",
              "    [theme=dark] .colab-df-convert {\n",
              "      background-color: #3B4455;\n",
              "      fill: #D2E3FC;\n",
              "    }\n",
              "\n",
              "    [theme=dark] .colab-df-convert:hover {\n",
              "      background-color: #434B5C;\n",
              "      box-shadow: 0px 1px 3px 1px rgba(0, 0, 0, 0.15);\n",
              "      filter: drop-shadow(0px 1px 2px rgba(0, 0, 0, 0.3));\n",
              "      fill: #FFFFFF;\n",
              "    }\n",
              "  </style>\n",
              "\n",
              "      <script>\n",
              "        const buttonEl =\n",
              "          document.querySelector('#df-6d85d851-106e-4a03-b620-e92f2e4cf764 button.colab-df-convert');\n",
              "        buttonEl.style.display =\n",
              "          google.colab.kernel.accessAllowed ? 'block' : 'none';\n",
              "\n",
              "        async function convertToInteractive(key) {\n",
              "          const element = document.querySelector('#df-6d85d851-106e-4a03-b620-e92f2e4cf764');\n",
              "          const dataTable =\n",
              "            await google.colab.kernel.invokeFunction('convertToInteractive',\n",
              "                                                     [key], {});\n",
              "          if (!dataTable) return;\n",
              "\n",
              "          const docLinkHtml = 'Like what you see? Visit the ' +\n",
              "            '<a target=\"_blank\" href=https://colab.research.google.com/notebooks/data_table.ipynb>data table notebook</a>'\n",
              "            + ' to learn more about interactive tables.';\n",
              "          element.innerHTML = '';\n",
              "          dataTable['output_type'] = 'display_data';\n",
              "          await google.colab.output.renderOutput(dataTable, element);\n",
              "          const docLink = document.createElement('div');\n",
              "          docLink.innerHTML = docLinkHtml;\n",
              "          element.appendChild(docLink);\n",
              "        }\n",
              "      </script>\n",
              "    </div>\n",
              "  </div>\n",
              "  "
            ]
          },
          "metadata": {},
          "execution_count": 7
        }
      ],
      "source": [
        "df = pd.DataFrame(review_texts)\n",
        "df_reviews = df[[\"reviewText\"]]\n",
        "df_reviews.head()"
      ]
    },
    {
      "cell_type": "markdown",
      "source": [
        "### Remove stop words"
      ],
      "metadata": {
        "id": "C-NrkuNRf4K6"
      }
    },
    {
      "cell_type": "code",
      "source": [
        "stopwords = set(stopwords.words('english'))\n",
        "\n",
        "def removing_stopwords(text):\n",
        "    return \" \".join([word for word in str(text).split() if word not in stopwords])\n",
        "\n",
        "df_reviews['reviewText_clean'] = df_reviews['reviewText'].apply(lambda text: removing_stopwords(text))\n",
        "df_reviews"
      ],
      "metadata": {
        "colab": {
          "base_uri": "https://localhost:8080/",
          "height": 527
        },
        "id": "LNFLPxu3cqJ9",
        "outputId": "b67b71f9-ef77-4727-d5f9-c339ae405a65"
      },
      "execution_count": null,
      "outputs": [
        {
          "output_type": "stream",
          "name": "stderr",
          "text": [
            "<ipython-input-8-6c7372ec2d63>:6: SettingWithCopyWarning: \n",
            "A value is trying to be set on a copy of a slice from a DataFrame.\n",
            "Try using .loc[row_indexer,col_indexer] = value instead\n",
            "\n",
            "See the caveats in the documentation: https://pandas.pydata.org/pandas-docs/stable/user_guide/indexing.html#returning-a-view-versus-a-copy\n",
            "  df_reviews['reviewText_clean'] = df_reviews['reviewText'].apply(lambda text: removing_stopwords(text))\n"
          ]
        },
        {
          "output_type": "execute_result",
          "data": {
            "text/plain": [
              "                                              reviewText  \\\n",
              "0      This is a sturdy, 2 3/4-inch pizza wheel, whic...   \n",
              "1      This is a sturdy, big, 4-inch pizza wheel, com...   \n",
              "2      This is a sturdy, 2 3/4-inch pizza wheel, whic...   \n",
              "3      It is definitely not one of the best OXO produ...   \n",
              "4      I love all of Oxo's Good Grips utensils.  They...   \n",
              "...                                                  ...   \n",
              "46078  This pan is great. I used to use straight pans...   \n",
              "46079  It works as intended. The pizzas i buy fit in ...   \n",
              "46080  Used it moments after bringing it in the house...   \n",
              "46081                      Pan was dammege and too small   \n",
              "46082                         Flimsy for a decent pizza.   \n",
              "\n",
              "                                        reviewText_clean  \n",
              "0      This sturdy, 2 3/4-inch pizza wheel, produces ...  \n",
              "1      This sturdy, big, 4-inch pizza wheel, complete...  \n",
              "2      This sturdy, 2 3/4-inch pizza wheel, produces ...  \n",
              "3      It definitely one best OXO products. The one a...  \n",
              "4      I love Oxo's Good Grips utensils. They excelle...  \n",
              "...                                                  ...  \n",
              "46078  This pan great. I used use straight pans, coul...  \n",
              "46079  It works intended. The pizzas buy fit perfectl...  \n",
              "46080  Used moments bringing house delivery.....perfe...  \n",
              "46081                                  Pan dammege small  \n",
              "46082                               Flimsy decent pizza.  \n",
              "\n",
              "[46083 rows x 2 columns]"
            ],
            "text/html": [
              "\n",
              "  <div id=\"df-b2ede31e-9c25-4534-a4fb-14a3bd44a664\">\n",
              "    <div class=\"colab-df-container\">\n",
              "      <div>\n",
              "<style scoped>\n",
              "    .dataframe tbody tr th:only-of-type {\n",
              "        vertical-align: middle;\n",
              "    }\n",
              "\n",
              "    .dataframe tbody tr th {\n",
              "        vertical-align: top;\n",
              "    }\n",
              "\n",
              "    .dataframe thead th {\n",
              "        text-align: right;\n",
              "    }\n",
              "</style>\n",
              "<table border=\"1\" class=\"dataframe\">\n",
              "  <thead>\n",
              "    <tr style=\"text-align: right;\">\n",
              "      <th></th>\n",
              "      <th>reviewText</th>\n",
              "      <th>reviewText_clean</th>\n",
              "    </tr>\n",
              "  </thead>\n",
              "  <tbody>\n",
              "    <tr>\n",
              "      <th>0</th>\n",
              "      <td>This is a sturdy, 2 3/4-inch pizza wheel, whic...</td>\n",
              "      <td>This sturdy, 2 3/4-inch pizza wheel, produces ...</td>\n",
              "    </tr>\n",
              "    <tr>\n",
              "      <th>1</th>\n",
              "      <td>This is a sturdy, big, 4-inch pizza wheel, com...</td>\n",
              "      <td>This sturdy, big, 4-inch pizza wheel, complete...</td>\n",
              "    </tr>\n",
              "    <tr>\n",
              "      <th>2</th>\n",
              "      <td>This is a sturdy, 2 3/4-inch pizza wheel, whic...</td>\n",
              "      <td>This sturdy, 2 3/4-inch pizza wheel, produces ...</td>\n",
              "    </tr>\n",
              "    <tr>\n",
              "      <th>3</th>\n",
              "      <td>It is definitely not one of the best OXO produ...</td>\n",
              "      <td>It definitely one best OXO products. The one a...</td>\n",
              "    </tr>\n",
              "    <tr>\n",
              "      <th>4</th>\n",
              "      <td>I love all of Oxo's Good Grips utensils.  They...</td>\n",
              "      <td>I love Oxo's Good Grips utensils. They excelle...</td>\n",
              "    </tr>\n",
              "    <tr>\n",
              "      <th>...</th>\n",
              "      <td>...</td>\n",
              "      <td>...</td>\n",
              "    </tr>\n",
              "    <tr>\n",
              "      <th>46078</th>\n",
              "      <td>This pan is great. I used to use straight pans...</td>\n",
              "      <td>This pan great. I used use straight pans, coul...</td>\n",
              "    </tr>\n",
              "    <tr>\n",
              "      <th>46079</th>\n",
              "      <td>It works as intended. The pizzas i buy fit in ...</td>\n",
              "      <td>It works intended. The pizzas buy fit perfectl...</td>\n",
              "    </tr>\n",
              "    <tr>\n",
              "      <th>46080</th>\n",
              "      <td>Used it moments after bringing it in the house...</td>\n",
              "      <td>Used moments bringing house delivery.....perfe...</td>\n",
              "    </tr>\n",
              "    <tr>\n",
              "      <th>46081</th>\n",
              "      <td>Pan was dammege and too small</td>\n",
              "      <td>Pan dammege small</td>\n",
              "    </tr>\n",
              "    <tr>\n",
              "      <th>46082</th>\n",
              "      <td>Flimsy for a decent pizza.</td>\n",
              "      <td>Flimsy decent pizza.</td>\n",
              "    </tr>\n",
              "  </tbody>\n",
              "</table>\n",
              "<p>46083 rows × 2 columns</p>\n",
              "</div>\n",
              "      <button class=\"colab-df-convert\" onclick=\"convertToInteractive('df-b2ede31e-9c25-4534-a4fb-14a3bd44a664')\"\n",
              "              title=\"Convert this dataframe to an interactive table.\"\n",
              "              style=\"display:none;\">\n",
              "        \n",
              "  <svg xmlns=\"http://www.w3.org/2000/svg\" height=\"24px\"viewBox=\"0 0 24 24\"\n",
              "       width=\"24px\">\n",
              "    <path d=\"M0 0h24v24H0V0z\" fill=\"none\"/>\n",
              "    <path d=\"M18.56 5.44l.94 2.06.94-2.06 2.06-.94-2.06-.94-.94-2.06-.94 2.06-2.06.94zm-11 1L8.5 8.5l.94-2.06 2.06-.94-2.06-.94L8.5 2.5l-.94 2.06-2.06.94zm10 10l.94 2.06.94-2.06 2.06-.94-2.06-.94-.94-2.06-.94 2.06-2.06.94z\"/><path d=\"M17.41 7.96l-1.37-1.37c-.4-.4-.92-.59-1.43-.59-.52 0-1.04.2-1.43.59L10.3 9.45l-7.72 7.72c-.78.78-.78 2.05 0 2.83L4 21.41c.39.39.9.59 1.41.59.51 0 1.02-.2 1.41-.59l7.78-7.78 2.81-2.81c.8-.78.8-2.07 0-2.86zM5.41 20L4 18.59l7.72-7.72 1.47 1.35L5.41 20z\"/>\n",
              "  </svg>\n",
              "      </button>\n",
              "      \n",
              "  <style>\n",
              "    .colab-df-container {\n",
              "      display:flex;\n",
              "      flex-wrap:wrap;\n",
              "      gap: 12px;\n",
              "    }\n",
              "\n",
              "    .colab-df-convert {\n",
              "      background-color: #E8F0FE;\n",
              "      border: none;\n",
              "      border-radius: 50%;\n",
              "      cursor: pointer;\n",
              "      display: none;\n",
              "      fill: #1967D2;\n",
              "      height: 32px;\n",
              "      padding: 0 0 0 0;\n",
              "      width: 32px;\n",
              "    }\n",
              "\n",
              "    .colab-df-convert:hover {\n",
              "      background-color: #E2EBFA;\n",
              "      box-shadow: 0px 1px 2px rgba(60, 64, 67, 0.3), 0px 1px 3px 1px rgba(60, 64, 67, 0.15);\n",
              "      fill: #174EA6;\n",
              "    }\n",
              "\n",
              "    [theme=dark] .colab-df-convert {\n",
              "      background-color: #3B4455;\n",
              "      fill: #D2E3FC;\n",
              "    }\n",
              "\n",
              "    [theme=dark] .colab-df-convert:hover {\n",
              "      background-color: #434B5C;\n",
              "      box-shadow: 0px 1px 3px 1px rgba(0, 0, 0, 0.15);\n",
              "      filter: drop-shadow(0px 1px 2px rgba(0, 0, 0, 0.3));\n",
              "      fill: #FFFFFF;\n",
              "    }\n",
              "  </style>\n",
              "\n",
              "      <script>\n",
              "        const buttonEl =\n",
              "          document.querySelector('#df-b2ede31e-9c25-4534-a4fb-14a3bd44a664 button.colab-df-convert');\n",
              "        buttonEl.style.display =\n",
              "          google.colab.kernel.accessAllowed ? 'block' : 'none';\n",
              "\n",
              "        async function convertToInteractive(key) {\n",
              "          const element = document.querySelector('#df-b2ede31e-9c25-4534-a4fb-14a3bd44a664');\n",
              "          const dataTable =\n",
              "            await google.colab.kernel.invokeFunction('convertToInteractive',\n",
              "                                                     [key], {});\n",
              "          if (!dataTable) return;\n",
              "\n",
              "          const docLinkHtml = 'Like what you see? Visit the ' +\n",
              "            '<a target=\"_blank\" href=https://colab.research.google.com/notebooks/data_table.ipynb>data table notebook</a>'\n",
              "            + ' to learn more about interactive tables.';\n",
              "          element.innerHTML = '';\n",
              "          dataTable['output_type'] = 'display_data';\n",
              "          await google.colab.output.renderOutput(dataTable, element);\n",
              "          const docLink = document.createElement('div');\n",
              "          docLink.innerHTML = docLinkHtml;\n",
              "          element.appendChild(docLink);\n",
              "        }\n",
              "      </script>\n",
              "    </div>\n",
              "  </div>\n",
              "  "
            ]
          },
          "metadata": {},
          "execution_count": 8
        }
      ]
    },
    {
      "cell_type": "markdown",
      "source": [
        "## Get all reviews to lower case, then tokenize and lemmatize."
      ],
      "metadata": {
        "id": "04HpWQefgAX9"
      }
    },
    {
      "cell_type": "code",
      "source": [
        "df_reviews['reviewText_clean'] = df_reviews['reviewText_clean'].str.lower()\n",
        "\n",
        "df_reviews['reviewText_clean'] = df_reviews['reviewText_clean'].apply(lambda x: list(tokenize(x)))\n",
        "\n",
        "lemmatizer = WordNetLemmatizer()\n",
        "\n",
        "df_reviews['reviewText_clean'] = df_reviews['reviewText_clean'].apply(lambda tokens: [lemmatizer.lemmatize(token) for token in tokens])"
      ],
      "metadata": {
        "colab": {
          "base_uri": "https://localhost:8080/"
        },
        "id": "adbmkaJrd9e0",
        "outputId": "5ba97853-ad39-4808-ae66-a1dffed471ae"
      },
      "execution_count": null,
      "outputs": [
        {
          "output_type": "stream",
          "name": "stderr",
          "text": [
            "<ipython-input-9-160372da0eef>:1: SettingWithCopyWarning: \n",
            "A value is trying to be set on a copy of a slice from a DataFrame.\n",
            "Try using .loc[row_indexer,col_indexer] = value instead\n",
            "\n",
            "See the caveats in the documentation: https://pandas.pydata.org/pandas-docs/stable/user_guide/indexing.html#returning-a-view-versus-a-copy\n",
            "  df_reviews['reviewText_clean'] = df_reviews['reviewText_clean'].str.lower()\n",
            "<ipython-input-9-160372da0eef>:3: SettingWithCopyWarning: \n",
            "A value is trying to be set on a copy of a slice from a DataFrame.\n",
            "Try using .loc[row_indexer,col_indexer] = value instead\n",
            "\n",
            "See the caveats in the documentation: https://pandas.pydata.org/pandas-docs/stable/user_guide/indexing.html#returning-a-view-versus-a-copy\n",
            "  df_reviews['reviewText_clean'] = df_reviews['reviewText_clean'].apply(lambda x: list(tokenize(x)))\n",
            "<ipython-input-9-160372da0eef>:7: SettingWithCopyWarning: \n",
            "A value is trying to be set on a copy of a slice from a DataFrame.\n",
            "Try using .loc[row_indexer,col_indexer] = value instead\n",
            "\n",
            "See the caveats in the documentation: https://pandas.pydata.org/pandas-docs/stable/user_guide/indexing.html#returning-a-view-versus-a-copy\n",
            "  df_reviews['reviewText_clean'] = df_reviews['reviewText_clean'].apply(lambda tokens: [lemmatizer.lemmatize(token) for token in tokens])\n"
          ]
        }
      ]
    },
    {
      "cell_type": "code",
      "source": [
        "df_reviews"
      ],
      "metadata": {
        "colab": {
          "base_uri": "https://localhost:8080/",
          "height": 423
        },
        "id": "n2vuCkFRepJ4",
        "outputId": "fb208039-7417-40ee-f114-aab79cf998d6"
      },
      "execution_count": null,
      "outputs": [
        {
          "output_type": "execute_result",
          "data": {
            "text/plain": [
              "                                              reviewText  \\\n",
              "0      This is a sturdy, 2 3/4-inch pizza wheel, whic...   \n",
              "1      This is a sturdy, big, 4-inch pizza wheel, com...   \n",
              "2      This is a sturdy, 2 3/4-inch pizza wheel, whic...   \n",
              "3      It is definitely not one of the best OXO produ...   \n",
              "4      I love all of Oxo's Good Grips utensils.  They...   \n",
              "...                                                  ...   \n",
              "46078  This pan is great. I used to use straight pans...   \n",
              "46079  It works as intended. The pizzas i buy fit in ...   \n",
              "46080  Used it moments after bringing it in the house...   \n",
              "46081                      Pan was dammege and too small   \n",
              "46082                         Flimsy for a decent pizza.   \n",
              "\n",
              "                                        reviewText_clean  \n",
              "0      [this, sturdy, inch, pizza, wheel, produce, cl...  \n",
              "1      [this, sturdy, big, inch, pizza, wheel, comple...  \n",
              "2      [this, sturdy, inch, pizza, wheel, produce, cl...  \n",
              "3      [it, definitely, one, best, oxo, product, the,...  \n",
              "4      [i, love, oxo, s, good, grip, utensil, they, e...  \n",
              "...                                                  ...  \n",
              "46078  [this, pan, great, i, used, use, straight, pan...  \n",
              "46079  [it, work, intended, the, pizza, buy, fit, per...  \n",
              "46080  [used, moment, bringing, house, delivery, perf...  \n",
              "46081                              [pan, dammege, small]  \n",
              "46082                            [flimsy, decent, pizza]  \n",
              "\n",
              "[46083 rows x 2 columns]"
            ],
            "text/html": [
              "\n",
              "  <div id=\"df-1ed4403c-bd7b-4c42-8def-6e9861994167\">\n",
              "    <div class=\"colab-df-container\">\n",
              "      <div>\n",
              "<style scoped>\n",
              "    .dataframe tbody tr th:only-of-type {\n",
              "        vertical-align: middle;\n",
              "    }\n",
              "\n",
              "    .dataframe tbody tr th {\n",
              "        vertical-align: top;\n",
              "    }\n",
              "\n",
              "    .dataframe thead th {\n",
              "        text-align: right;\n",
              "    }\n",
              "</style>\n",
              "<table border=\"1\" class=\"dataframe\">\n",
              "  <thead>\n",
              "    <tr style=\"text-align: right;\">\n",
              "      <th></th>\n",
              "      <th>reviewText</th>\n",
              "      <th>reviewText_clean</th>\n",
              "    </tr>\n",
              "  </thead>\n",
              "  <tbody>\n",
              "    <tr>\n",
              "      <th>0</th>\n",
              "      <td>This is a sturdy, 2 3/4-inch pizza wheel, whic...</td>\n",
              "      <td>[this, sturdy, inch, pizza, wheel, produce, cl...</td>\n",
              "    </tr>\n",
              "    <tr>\n",
              "      <th>1</th>\n",
              "      <td>This is a sturdy, big, 4-inch pizza wheel, com...</td>\n",
              "      <td>[this, sturdy, big, inch, pizza, wheel, comple...</td>\n",
              "    </tr>\n",
              "    <tr>\n",
              "      <th>2</th>\n",
              "      <td>This is a sturdy, 2 3/4-inch pizza wheel, whic...</td>\n",
              "      <td>[this, sturdy, inch, pizza, wheel, produce, cl...</td>\n",
              "    </tr>\n",
              "    <tr>\n",
              "      <th>3</th>\n",
              "      <td>It is definitely not one of the best OXO produ...</td>\n",
              "      <td>[it, definitely, one, best, oxo, product, the,...</td>\n",
              "    </tr>\n",
              "    <tr>\n",
              "      <th>4</th>\n",
              "      <td>I love all of Oxo's Good Grips utensils.  They...</td>\n",
              "      <td>[i, love, oxo, s, good, grip, utensil, they, e...</td>\n",
              "    </tr>\n",
              "    <tr>\n",
              "      <th>...</th>\n",
              "      <td>...</td>\n",
              "      <td>...</td>\n",
              "    </tr>\n",
              "    <tr>\n",
              "      <th>46078</th>\n",
              "      <td>This pan is great. I used to use straight pans...</td>\n",
              "      <td>[this, pan, great, i, used, use, straight, pan...</td>\n",
              "    </tr>\n",
              "    <tr>\n",
              "      <th>46079</th>\n",
              "      <td>It works as intended. The pizzas i buy fit in ...</td>\n",
              "      <td>[it, work, intended, the, pizza, buy, fit, per...</td>\n",
              "    </tr>\n",
              "    <tr>\n",
              "      <th>46080</th>\n",
              "      <td>Used it moments after bringing it in the house...</td>\n",
              "      <td>[used, moment, bringing, house, delivery, perf...</td>\n",
              "    </tr>\n",
              "    <tr>\n",
              "      <th>46081</th>\n",
              "      <td>Pan was dammege and too small</td>\n",
              "      <td>[pan, dammege, small]</td>\n",
              "    </tr>\n",
              "    <tr>\n",
              "      <th>46082</th>\n",
              "      <td>Flimsy for a decent pizza.</td>\n",
              "      <td>[flimsy, decent, pizza]</td>\n",
              "    </tr>\n",
              "  </tbody>\n",
              "</table>\n",
              "<p>46083 rows × 2 columns</p>\n",
              "</div>\n",
              "      <button class=\"colab-df-convert\" onclick=\"convertToInteractive('df-1ed4403c-bd7b-4c42-8def-6e9861994167')\"\n",
              "              title=\"Convert this dataframe to an interactive table.\"\n",
              "              style=\"display:none;\">\n",
              "        \n",
              "  <svg xmlns=\"http://www.w3.org/2000/svg\" height=\"24px\"viewBox=\"0 0 24 24\"\n",
              "       width=\"24px\">\n",
              "    <path d=\"M0 0h24v24H0V0z\" fill=\"none\"/>\n",
              "    <path d=\"M18.56 5.44l.94 2.06.94-2.06 2.06-.94-2.06-.94-.94-2.06-.94 2.06-2.06.94zm-11 1L8.5 8.5l.94-2.06 2.06-.94-2.06-.94L8.5 2.5l-.94 2.06-2.06.94zm10 10l.94 2.06.94-2.06 2.06-.94-2.06-.94-.94-2.06-.94 2.06-2.06.94z\"/><path d=\"M17.41 7.96l-1.37-1.37c-.4-.4-.92-.59-1.43-.59-.52 0-1.04.2-1.43.59L10.3 9.45l-7.72 7.72c-.78.78-.78 2.05 0 2.83L4 21.41c.39.39.9.59 1.41.59.51 0 1.02-.2 1.41-.59l7.78-7.78 2.81-2.81c.8-.78.8-2.07 0-2.86zM5.41 20L4 18.59l7.72-7.72 1.47 1.35L5.41 20z\"/>\n",
              "  </svg>\n",
              "      </button>\n",
              "      \n",
              "  <style>\n",
              "    .colab-df-container {\n",
              "      display:flex;\n",
              "      flex-wrap:wrap;\n",
              "      gap: 12px;\n",
              "    }\n",
              "\n",
              "    .colab-df-convert {\n",
              "      background-color: #E8F0FE;\n",
              "      border: none;\n",
              "      border-radius: 50%;\n",
              "      cursor: pointer;\n",
              "      display: none;\n",
              "      fill: #1967D2;\n",
              "      height: 32px;\n",
              "      padding: 0 0 0 0;\n",
              "      width: 32px;\n",
              "    }\n",
              "\n",
              "    .colab-df-convert:hover {\n",
              "      background-color: #E2EBFA;\n",
              "      box-shadow: 0px 1px 2px rgba(60, 64, 67, 0.3), 0px 1px 3px 1px rgba(60, 64, 67, 0.15);\n",
              "      fill: #174EA6;\n",
              "    }\n",
              "\n",
              "    [theme=dark] .colab-df-convert {\n",
              "      background-color: #3B4455;\n",
              "      fill: #D2E3FC;\n",
              "    }\n",
              "\n",
              "    [theme=dark] .colab-df-convert:hover {\n",
              "      background-color: #434B5C;\n",
              "      box-shadow: 0px 1px 3px 1px rgba(0, 0, 0, 0.15);\n",
              "      filter: drop-shadow(0px 1px 2px rgba(0, 0, 0, 0.3));\n",
              "      fill: #FFFFFF;\n",
              "    }\n",
              "  </style>\n",
              "\n",
              "      <script>\n",
              "        const buttonEl =\n",
              "          document.querySelector('#df-1ed4403c-bd7b-4c42-8def-6e9861994167 button.colab-df-convert');\n",
              "        buttonEl.style.display =\n",
              "          google.colab.kernel.accessAllowed ? 'block' : 'none';\n",
              "\n",
              "        async function convertToInteractive(key) {\n",
              "          const element = document.querySelector('#df-1ed4403c-bd7b-4c42-8def-6e9861994167');\n",
              "          const dataTable =\n",
              "            await google.colab.kernel.invokeFunction('convertToInteractive',\n",
              "                                                     [key], {});\n",
              "          if (!dataTable) return;\n",
              "\n",
              "          const docLinkHtml = 'Like what you see? Visit the ' +\n",
              "            '<a target=\"_blank\" href=https://colab.research.google.com/notebooks/data_table.ipynb>data table notebook</a>'\n",
              "            + ' to learn more about interactive tables.';\n",
              "          element.innerHTML = '';\n",
              "          dataTable['output_type'] = 'display_data';\n",
              "          await google.colab.output.renderOutput(dataTable, element);\n",
              "          const docLink = document.createElement('div');\n",
              "          docLink.innerHTML = docLinkHtml;\n",
              "          element.appendChild(docLink);\n",
              "        }\n",
              "      </script>\n",
              "    </div>\n",
              "  </div>\n",
              "  "
            ]
          },
          "metadata": {},
          "execution_count": 10
        }
      ]
    },
    {
      "cell_type": "markdown",
      "source": [
        "### Remove single and double letter words because most of them are \"a\", \"it\" and \"us\" etc"
      ],
      "metadata": {
        "id": "AAhYfA6NgKMm"
      }
    },
    {
      "cell_type": "code",
      "source": [
        "df_reviews['reviewText_clean'] = df_reviews['reviewText_clean'].apply(lambda lst: [s for s in lst if len(s) > 2])"
      ],
      "metadata": {
        "colab": {
          "base_uri": "https://localhost:8080/"
        },
        "id": "ZJsPbhnFfn8h",
        "outputId": "cc447322-32dd-4726-84a2-649fca5f76e3"
      },
      "execution_count": null,
      "outputs": [
        {
          "output_type": "stream",
          "name": "stderr",
          "text": [
            "<ipython-input-11-01006aee2c6b>:1: SettingWithCopyWarning: \n",
            "A value is trying to be set on a copy of a slice from a DataFrame.\n",
            "Try using .loc[row_indexer,col_indexer] = value instead\n",
            "\n",
            "See the caveats in the documentation: https://pandas.pydata.org/pandas-docs/stable/user_guide/indexing.html#returning-a-view-versus-a-copy\n",
            "  df_reviews['reviewText_clean'] = df_reviews['reviewText_clean'].apply(lambda lst: [s for s in lst if len(s) > 2])\n"
          ]
        }
      ]
    },
    {
      "cell_type": "markdown",
      "source": [
        "## Create Dictionary and corpus."
      ],
      "metadata": {
        "id": "szkKZu9EgpcJ"
      }
    },
    {
      "cell_type": "code",
      "source": [
        "dictionary = Dictionary(df_reviews['reviewText_clean'])\n",
        "corpus = [dictionary.doc2bow(text) for text in df_reviews['reviewText_clean']]"
      ],
      "metadata": {
        "id": "-DGMo22Vf1Xk"
      },
      "execution_count": null,
      "outputs": []
    },
    {
      "cell_type": "markdown",
      "source": [
        "## Create a LDA model and test different parameters."
      ],
      "metadata": {
        "id": "DFAzax2Dg3ge"
      }
    },
    {
      "cell_type": "code",
      "source": [
        "num_topics = 20\n",
        "model = models.LdaMulticore(corpus, num_topics=num_topics, id2word=dictionary, passes=2, workers=4, dtype=np.float64)"
      ],
      "metadata": {
        "id": "hWw_f7hqgPd2"
      },
      "execution_count": null,
      "outputs": []
    },
    {
      "cell_type": "code",
      "source": [
        "cm = CoherenceModel(model=model, texts=df_reviews['reviewText_clean'], dictionary=dictionary, coherence='c_v')\n",
        "coherence = cm.get_coherence()\n",
        "coherence"
      ],
      "metadata": {
        "colab": {
          "base_uri": "https://localhost:8080/"
        },
        "id": "KBEMEZCxgRxu",
        "outputId": "2f78016c-dc71-45fc-c957-865775a82b2e"
      },
      "execution_count": null,
      "outputs": [
        {
          "output_type": "execute_result",
          "data": {
            "text/plain": [
              "0.47112892227369246"
            ]
          },
          "metadata": {},
          "execution_count": 14
        }
      ]
    },
    {
      "cell_type": "code",
      "source": [
        "# Expected time to run: 5 min\n",
        "num_topics = 20\n",
        "model2 = models.LdaMulticore(corpus, num_topics=num_topics, id2word=dictionary, passes=7, workers=4, dtype=np.float64)"
      ],
      "metadata": {
        "id": "CXrkGrjJg0Wh"
      },
      "execution_count": null,
      "outputs": []
    },
    {
      "cell_type": "code",
      "source": [
        "cm = CoherenceModel(model=model2, texts=df_reviews['reviewText_clean'], dictionary=dictionary, coherence='c_v')\n",
        "coherence = cm.get_coherence()\n",
        "coherence"
      ],
      "metadata": {
        "colab": {
          "base_uri": "https://localhost:8080/"
        },
        "id": "ya7e7RLag6fb",
        "outputId": "9d07b18c-6f8e-485a-f5eb-f56cf1582bec"
      },
      "execution_count": null,
      "outputs": [
        {
          "output_type": "execute_result",
          "data": {
            "text/plain": [
              "0.5104484483845962"
            ]
          },
          "metadata": {},
          "execution_count": 16
        }
      ]
    },
    {
      "cell_type": "code",
      "source": [
        "# Expected time to run: 6 min\n",
        "num_topics = 20\n",
        "model3 = models.LdaMulticore(corpus, num_topics=num_topics, id2word=dictionary, passes=10, workers=4, dtype=np.float64)"
      ],
      "metadata": {
        "id": "ed61yyaeh8FE"
      },
      "execution_count": null,
      "outputs": []
    },
    {
      "cell_type": "code",
      "source": [
        "cm = CoherenceModel(model=model3, texts=df_reviews['reviewText_clean'], dictionary=dictionary, coherence='c_v')\n",
        "coherence = cm.get_coherence()\n",
        "coherence"
      ],
      "metadata": {
        "colab": {
          "base_uri": "https://localhost:8080/"
        },
        "id": "CeEFUn32iCqi",
        "outputId": "69574a9f-db68-4428-eb5b-60c0b56aa681"
      },
      "execution_count": null,
      "outputs": [
        {
          "output_type": "execute_result",
          "data": {
            "text/plain": [
              "0.5165276703651449"
            ]
          },
          "metadata": {},
          "execution_count": 18
        }
      ]
    },
    {
      "cell_type": "code",
      "source": [
        "# Expected time to run: 7 min\n",
        "num_topics = 10\n",
        "model4 = models.LdaMulticore(corpus, num_topics=num_topics, id2word=dictionary, passes=10, workers=4, dtype=np.float64)"
      ],
      "metadata": {
        "id": "PuUTBK1kvuOQ"
      },
      "execution_count": null,
      "outputs": []
    },
    {
      "cell_type": "code",
      "source": [
        "cm = CoherenceModel(model=model4, texts=df_reviews['reviewText_clean'], dictionary=dictionary, coherence='c_v')\n",
        "coherence = cm.get_coherence()\n",
        "coherence"
      ],
      "metadata": {
        "colab": {
          "base_uri": "https://localhost:8080/"
        },
        "id": "-CasYlFTwAfH",
        "outputId": "540f0493-10ae-41ab-c647-0214780582a0"
      },
      "execution_count": null,
      "outputs": [
        {
          "output_type": "execute_result",
          "data": {
            "text/plain": [
              "0.5054444052560514"
            ]
          },
          "metadata": {},
          "execution_count": 20
        }
      ]
    },
    {
      "cell_type": "code",
      "source": [
        "# Expected time to run: 7 min\n",
        "num_topics = 5\n",
        "model4 = models.LdaMulticore(corpus, num_topics=num_topics, id2word=dictionary, passes=10, workers=4, dtype=np.float64)"
      ],
      "metadata": {
        "id": "XgAP4-Ns1S2l"
      },
      "execution_count": null,
      "outputs": []
    },
    {
      "cell_type": "code",
      "source": [
        "cm = CoherenceModel(model=model4, texts=df_reviews['reviewText_clean'], dictionary=dictionary, coherence='c_v')\n",
        "coherence = cm.get_coherence()\n",
        "coherence"
      ],
      "metadata": {
        "colab": {
          "base_uri": "https://localhost:8080/"
        },
        "id": "TzS8EiAq1ZWZ",
        "outputId": "78007205-4863-4255-d0c2-949b6a443970"
      },
      "execution_count": null,
      "outputs": [
        {
          "output_type": "execute_result",
          "data": {
            "text/plain": [
              "0.49049587486934787"
            ]
          },
          "metadata": {},
          "execution_count": 22
        }
      ]
    },
    {
      "cell_type": "code",
      "source": [
        "# Expected time to run: 4 min\n",
        "num_topics = 20\n",
        "model5 = models.LdaMulticore(corpus, num_topics=num_topics, id2word=dictionary, passes=10, workers=6, dtype=np.float64)"
      ],
      "metadata": {
        "id": "YIk3cbbM2WEt"
      },
      "execution_count": null,
      "outputs": []
    },
    {
      "cell_type": "code",
      "source": [
        "cm = CoherenceModel(model=model5, texts=df_reviews['reviewText_clean'], dictionary=dictionary, coherence='c_v')\n",
        "coherence = cm.get_coherence()\n",
        "coherence"
      ],
      "metadata": {
        "colab": {
          "base_uri": "https://localhost:8080/"
        },
        "id": "2rX_SvvG3Cz2",
        "outputId": "604e9e53-406d-473f-e495-a97e57c4a1ca"
      },
      "execution_count": null,
      "outputs": [
        {
          "output_type": "execute_result",
          "data": {
            "text/plain": [
              "0.5049064684744217"
            ]
          },
          "metadata": {},
          "execution_count": 24
        }
      ]
    },
    {
      "cell_type": "code",
      "source": [
        "# Expected time to run: 4 min\n",
        "num_topics = 20\n",
        "model6 = models.LdaMulticore(corpus, num_topics=num_topics, id2word=dictionary, passes=10, workers=2, dtype=np.float64)"
      ],
      "metadata": {
        "id": "YHm0uUEB3azq"
      },
      "execution_count": null,
      "outputs": []
    },
    {
      "cell_type": "code",
      "source": [
        "cm = CoherenceModel(model=model6, texts=df_reviews['reviewText_clean'], dictionary=dictionary, coherence='c_v')\n",
        "coherence = cm.get_coherence()\n",
        "coherence"
      ],
      "metadata": {
        "colab": {
          "base_uri": "https://localhost:8080/"
        },
        "id": "WrsypSQz3ezE",
        "outputId": "2257a398-d236-4748-e345-83688c895430"
      },
      "execution_count": null,
      "outputs": [
        {
          "output_type": "execute_result",
          "data": {
            "text/plain": [
              "0.5503422903109361"
            ]
          },
          "metadata": {},
          "execution_count": 26
        }
      ]
    },
    {
      "cell_type": "code",
      "source": [
        "# Expected time to run: 3 min\n",
        "num_topics = 20\n",
        "model7 = models.LdaMulticore(corpus, num_topics=num_topics, id2word=dictionary, passes=10, dtype=np.float64)"
      ],
      "metadata": {
        "id": "ixi9X-hb4_i_"
      },
      "execution_count": null,
      "outputs": []
    },
    {
      "cell_type": "code",
      "source": [
        "cm = CoherenceModel(model=model7, texts=df_reviews['reviewText_clean'], dictionary=dictionary, coherence='c_v')\n",
        "coherence = cm.get_coherence()\n",
        "coherence"
      ],
      "metadata": {
        "colab": {
          "base_uri": "https://localhost:8080/"
        },
        "id": "pKZVpud_5RlE",
        "outputId": "173ac255-104d-4ff6-e0fc-42d6db875367"
      },
      "execution_count": null,
      "outputs": [
        {
          "output_type": "execute_result",
          "data": {
            "text/plain": [
              "0.5281542264977968"
            ]
          },
          "metadata": {},
          "execution_count": 28
        }
      ]
    },
    {
      "cell_type": "markdown",
      "source": [
        "## Most salient words per topic."
      ],
      "metadata": {
        "id": "Z3uowyaibw4S"
      }
    },
    {
      "cell_type": "code",
      "source": [
        "for ix in range(num_topics):\n",
        "  top10 = np.argsort(model6.get_topics()[ix])[-10:]\n",
        "  print(f'{ix}:  {\" \".join([dictionary[index] for index in top10])}')"
      ],
      "metadata": {
        "colab": {
          "base_uri": "https://localhost:8080/"
        },
        "id": "GtlJ7B_Gb0HU",
        "outputId": "aadfbb32-0cc3-4b1c-dee3-aff211887dd0"
      },
      "execution_count": null,
      "outputs": [
        {
          "output_type": "stream",
          "name": "stdout",
          "text": [
            "0:  cast iron this make pizza great use clean love easy\n",
            "1:  larger better size bit much smaller the one screen inch\n",
            "2:  class for hook described product link normal stainless exactly steel\n",
            "3:  pizza very nice price product well quality good work great\n",
            "4:  onto crust get slide make peel oven stone dough pizza\n",
            "5:  purchased buy another old this love pizza bought year one\n",
            "6:  this made make used crust the baking bread pizza stone\n",
            "7:  first plastic back like time would one use get the\n",
            "8:  amazon would fast excellent quality arrived item received review product\n",
            "9:  used smell cooking food foreman waffle ceramic the plate grill\n",
            "10:  half used use cracked time chef first piece broke money\n",
            "11:  ever one dish deep like this best home make pizza\n",
            "12:  crisp this non crispy bottom the stick crust pizza pan\n",
            "13:  use toaster work perfectly great fit size perfect oven pizza\n",
            "14:  handle the this cutting wheel sharp blade cut cutter pizza\n",
            "15:  use cooking the get minute pizza top cook heat oven\n",
            "16:  george food pizza chicken cast cheese iron water use oil\n",
            "17:  amazon com class name value cute type fun video image\n",
            "18:  edge well board use beautiful the wood pizza handle peel\n",
            "19:  great bought love well like yet look time used gift\n"
          ]
        }
      ]
    },
    {
      "cell_type": "code",
      "source": [
        "model6.get_topics()[0]"
      ],
      "metadata": {
        "id": "u4OjFLgp6ATY",
        "outputId": "9cf45305-ef0f-48f0-8eae-4415b5882e35",
        "colab": {
          "base_uri": "https://localhost:8080/"
        }
      },
      "execution_count": null,
      "outputs": [
        {
          "output_type": "execute_result",
          "data": {
            "text/plain": [
              "array([1.33734247e-06, 1.33728410e-06, 1.33728411e-06, ...,\n",
              "       1.33728410e-06, 1.33728410e-06, 1.33728410e-06])"
            ]
          },
          "metadata": {},
          "execution_count": 31
        }
      ]
    },
    {
      "cell_type": "markdown",
      "source": [
        "## Dump modle into a pickle file."
      ],
      "metadata": {
        "id": "cq70dmEShMiM"
      }
    },
    {
      "cell_type": "code",
      "source": [
        "with open('topic.model', 'wb') as f:\n",
        "    pickle.dump(model6,f)"
      ],
      "metadata": {
        "id": "v5bwgRBnV7eM"
      },
      "execution_count": null,
      "outputs": []
    }
  ],
  "metadata": {
    "colab": {
      "provenance": []
    },
    "kernelspec": {
      "display_name": "Python 3",
      "name": "python3"
    },
    "language_info": {
      "name": "python"
    }
  },
  "nbformat": 4,
  "nbformat_minor": 0
}